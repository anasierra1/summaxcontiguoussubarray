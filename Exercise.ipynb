{
 "cells": [
  {
   "cell_type": "code",
   "execution_count": 1,
   "metadata": {},
   "outputs": [],
   "source": [
    "#Write a function that finds the contiguous subarray (containing at least one number) which has the largest sum within an array read in input to the function. \n",
    "#The function should return the sub-array and the corresponding sum. \n",
    "#Which is the complexity of your solution? \n",
    "#Can you do a solution with linear complexity? \n",
    "#Write a unit test for the function.\n"
   ]
  },
  {
   "cell_type": "code",
   "execution_count": 2,
   "metadata": {},
   "outputs": [],
   "source": [
    "array = [-1, -20, 3, 5, -6, 1, -3, 10, 9, 18, 15]"
   ]
  },
  {
   "cell_type": "code",
   "execution_count": 7,
   "metadata": {},
   "outputs": [],
   "source": [
    "def sum_max_contiguous_subarray(array):\n",
    "    subarray = [array[i:i+j] for i in range(0,len(array)) for j in range(1,len(array)-i+1)] #extract all contiguos subarrays \n",
    "    max_array = max(subarray, key=sum) #obtain biggest sum of a subarray\n",
    "    max_sum = sum(max_array) #sum the sub array\n",
    "    print('The contiguous subarray with the largest sum is:',max_array,'and the sum is:',max_sum)\n",
    "    return(max_array, max_sum)"
   ]
  },
  {
   "cell_type": "code",
   "execution_count": 8,
   "metadata": {},
   "outputs": [
    {
     "name": "stdout",
     "output_type": "stream",
     "text": [
      "The contiguous subarray with the largest sum is: [3, 5, -6, 1, -3, 10, 9, 18, 15] and the sum is: 52\n"
     ]
    },
    {
     "data": {
      "text/plain": [
       "([3, 5, -6, 1, -3, 10, 9, 18, 15], 52)"
      ]
     },
     "execution_count": 8,
     "metadata": {},
     "output_type": "execute_result"
    }
   ],
   "source": [
    "sum_max_contiguous_subarray(array)"
   ]
  },
  {
   "cell_type": "markdown",
   "metadata": {},
   "source": [
    "My solution has time complexity O(n) * O(n)  as it has two nested loops, i wasn't able to find a solutions which print both the array and the sum with O(n) complexity."
   ]
  },
  {
   "cell_type": "code",
   "execution_count": 11,
   "metadata": {},
   "outputs": [],
   "source": [
    "### UNIT TEST\n",
    "import unittest\n",
    "class TestFunct(unittest.TestCase):\n",
    "      def test_function(self):\n",
    "        actual = sum_max_contiguous_subarray( array = [-1, -2, 3, 5, 6, 1, -3, 10, -9])\n",
    "        expected = ([3, 5, 6, 1, -3, 10], 22)\n",
    "        self.assertEqual(actual, expected)\n"
   ]
  }
 ],
 "metadata": {
  "interpreter": {
   "hash": "ca103a8c615d93b1ffe8a19c30714dbbd6b0f95aec46a8d570bde021061987bb"
  },
  "kernelspec": {
   "display_name": "Python 3.8.13 ('downgrade')",
   "language": "python",
   "name": "python3"
  },
  "language_info": {
   "codemirror_mode": {
    "name": "ipython",
    "version": 3
   },
   "file_extension": ".py",
   "mimetype": "text/x-python",
   "name": "python",
   "nbconvert_exporter": "python",
   "pygments_lexer": "ipython3",
   "version": "3.8.13"
  },
  "orig_nbformat": 4
 },
 "nbformat": 4,
 "nbformat_minor": 2
}
